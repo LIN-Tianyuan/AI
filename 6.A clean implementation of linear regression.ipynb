{
 "cells": [
  {
   "cell_type": "markdown",
   "id": "d6b43a38",
   "metadata": {},
   "source": [
    "Succinct implementation of linear regression models through the use of deep learning frameworks Generating datasets."
   ]
  },
  {
   "cell_type": "code",
   "execution_count": 13,
   "id": "5adfb972",
   "metadata": {},
   "outputs": [],
   "source": [
    "import numpy as np\n",
    "import torch\n",
    "from torch.utils import data\n",
    "from d2l import torch as d2l\n",
    "\n",
    "true_w = torch.tensor([2, -3.4])\n",
    "true_b = 4.2\n",
    "features, labels = d2l.synthetic_data(true_w, true_b, 1000)"
   ]
  },
  {
   "cell_type": "markdown",
   "id": "6ad2f105",
   "metadata": {},
   "source": [
    "Calling existing APIs in the framework to read data."
   ]
  },
  {
   "cell_type": "code",
   "execution_count": 4,
   "id": "3a7b4f5a",
   "metadata": {},
   "outputs": [
    {
     "data": {
      "text/plain": [
       "[tensor([[-0.2641, -0.6215],\n",
       "         [-2.0255,  1.4581],\n",
       "         [-0.8191, -0.7877],\n",
       "         [-1.7779,  0.7750],\n",
       "         [ 1.2821, -0.6248],\n",
       "         [ 1.0840,  0.4497],\n",
       "         [ 1.3726, -0.4042],\n",
       "         [-0.2389,  0.1503],\n",
       "         [-1.3983, -1.2577],\n",
       "         [ 0.9897, -0.6010]]),\n",
       " tensor([[ 5.7830],\n",
       "         [-4.8125],\n",
       "         [ 5.2425],\n",
       "         [-1.9911],\n",
       "         [ 8.9084],\n",
       "         [ 4.8468],\n",
       "         [ 8.3293],\n",
       "         [ 3.2137],\n",
       "         [ 5.6714],\n",
       "         [ 8.2207]])]"
      ]
     },
     "execution_count": 4,
     "metadata": {},
     "output_type": "execute_result"
    }
   ],
   "source": [
    "def load_array(data_arrays, batch_size, is_train=True):\n",
    "    \"\"\"Constructs a PyTorch data iterator.\"\"\"\n",
    "    dataset = data.TensorDataset(*data_arrays)\n",
    "    return data.DataLoader(dataset, batch_size, shuffle=is_train)\n",
    "\n",
    "batch_size = 10\n",
    "data_iter = load_array((features, labels), batch_size)\n",
    "\n",
    "next(iter(data_iter))"
   ]
  },
  {
   "cell_type": "markdown",
   "id": "4d6b9eb8",
   "metadata": {},
   "source": [
    "Use the framework's predefined layers."
   ]
  },
  {
   "cell_type": "code",
   "execution_count": 6,
   "id": "4f5fc351",
   "metadata": {},
   "outputs": [],
   "source": [
    "from torch import nn\n",
    "\n",
    "net = nn.Sequential(nn.Linear(2, 1))"
   ]
  },
  {
   "cell_type": "markdown",
   "id": "d71e7138",
   "metadata": {},
   "source": [
    "Initialize model parameters."
   ]
  },
  {
   "cell_type": "code",
   "execution_count": 7,
   "id": "9c00c66e",
   "metadata": {},
   "outputs": [
    {
     "data": {
      "text/plain": [
       "tensor([0.])"
      ]
     },
     "execution_count": 7,
     "metadata": {},
     "output_type": "execute_result"
    }
   ],
   "source": [
    "net[0].weight.data.normal_(0, 0.01)\n",
    "net[0].bias.data.fill_(0)"
   ]
  },
  {
   "cell_type": "markdown",
   "id": "6214f8d2",
   "metadata": {},
   "source": [
    "The calculation of the mean square error uses the MSELoss class, also known as squared 𝐿2 Paradigm."
   ]
  },
  {
   "cell_type": "code",
   "execution_count": 8,
   "id": "a8b2b23b",
   "metadata": {},
   "outputs": [],
   "source": [
    "loss = nn.MSELoss()"
   ]
  },
  {
   "cell_type": "markdown",
   "id": "5bd33bd1",
   "metadata": {},
   "source": [
    "Instantiating SGD Instances."
   ]
  },
  {
   "cell_type": "code",
   "execution_count": 9,
   "id": "adfb3138",
   "metadata": {},
   "outputs": [],
   "source": [
    "trainer = torch.optim.SGD(net.parameters(), lr=0.03)"
   ]
  },
  {
   "cell_type": "markdown",
   "id": "09b31cb5",
   "metadata": {},
   "source": [
    "The training process code is very similar to what we did when we implemented it from scratch."
   ]
  },
  {
   "cell_type": "code",
   "execution_count": 18,
   "id": "a276c8c4",
   "metadata": {},
   "outputs": [
    {
     "name": "stdout",
     "output_type": "stream",
     "text": [
      "epoch 1, loss 0.000099\n",
      "epoch 2, loss 0.000099\n",
      "epoch 3, loss 0.000099\n"
     ]
    }
   ],
   "source": [
    "num_epochs = 3\n",
    "for epoch in range(num_epochs):\n",
    "    for X, y in data_iter:\n",
    "        l = loss(net(X), y)\n",
    "        trainer.zero_grad()\n",
    "        l.backward()\n",
    "        trainer.step()\n",
    "    l = loss(net(features), labels)\n",
    "    print(f'epoch {epoch + 1}, loss {l:f}')"
   ]
  },
  {
   "cell_type": "markdown",
   "id": "b2e337db",
   "metadata": {},
   "source": [
    "Comparison of the real parameters of the generated dataset and the model parameters obtained by training on limited data."
   ]
  },
  {
   "cell_type": "code",
   "execution_count": 11,
   "id": "22494415",
   "metadata": {},
   "outputs": [
    {
     "name": "stdout",
     "output_type": "stream",
     "text": [
      "Estimation error of w:  tensor([ 3.2258e-04, -3.6955e-05])\n",
      "Estimation error of b:  tensor([0.0001])\n"
     ]
    }
   ],
   "source": [
    "w = net[0].weight.data\n",
    "print('Estimation error of w: ', true_w - w.reshape(true_w.shape))\n",
    "b = net[0].bias.data\n",
    "print('Estimation error of b: ', true_b - b)"
   ]
  }
 ],
 "metadata": {
  "kernelspec": {
   "display_name": "Python [conda env:root] *",
   "language": "python",
   "name": "conda-root-py"
  },
  "language_info": {
   "codemirror_mode": {
    "name": "ipython",
    "version": 3
   },
   "file_extension": ".py",
   "mimetype": "text/x-python",
   "name": "python",
   "nbconvert_exporter": "python",
   "pygments_lexer": "ipython3",
   "version": "3.8.18"
  },
  "toc": {
   "base_numbering": 1,
   "nav_menu": {},
   "number_sections": true,
   "sideBar": true,
   "skip_h1_title": false,
   "title_cell": "Table of Contents",
   "title_sidebar": "Contents",
   "toc_cell": false,
   "toc_position": {},
   "toc_section_display": true,
   "toc_window_display": false
  }
 },
 "nbformat": 4,
 "nbformat_minor": 5
}
